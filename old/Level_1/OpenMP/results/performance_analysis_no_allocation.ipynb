{
 "cells": [
  {
   "cell_type": "markdown",
   "id": "a0df77d4",
   "metadata": {},
   "source": [
    "# Performance Analysis of OpenMP with Cantera"
   ]
  },
  {
   "cell_type": "markdown",
   "id": "5dadca8c",
   "metadata": {},
   "source": [
    "---\n",
    "\n",
    ">\"**report_time.csv**\" file contains the execution time for different values of *Threads* and *Package sizes*."
   ]
  },
  {
   "cell_type": "code",
   "execution_count": 1,
   "id": "85e3a0c5",
   "metadata": {},
   "outputs": [
    {
     "data": {
      "text/html": [
       "<div>\n",
       "<style scoped>\n",
       "    .dataframe tbody tr th:only-of-type {\n",
       "        vertical-align: middle;\n",
       "    }\n",
       "\n",
       "    .dataframe tbody tr th {\n",
       "        vertical-align: top;\n",
       "    }\n",
       "\n",
       "    .dataframe thead th {\n",
       "        text-align: right;\n",
       "    }\n",
       "</style>\n",
       "<table border=\"1\" class=\"dataframe\">\n",
       "  <thead>\n",
       "    <tr style=\"text-align: right;\">\n",
       "      <th></th>\n",
       "      <th>threads</th>\n",
       "      <th>package</th>\n",
       "      <th>points</th>\n",
       "      <th>read_time[s]</th>\n",
       "      <th>calc_time[s]</th>\n",
       "      <th>write_time[s]</th>\n",
       "      <th>total_time[s]</th>\n",
       "    </tr>\n",
       "  </thead>\n",
       "  <tbody>\n",
       "    <tr>\n",
       "      <th>0</th>\n",
       "      <td>1</td>\n",
       "      <td>5</td>\n",
       "      <td>55076</td>\n",
       "      <td>0.670609</td>\n",
       "      <td>563.370</td>\n",
       "      <td>0.949715</td>\n",
       "      <td>564.990324</td>\n",
       "    </tr>\n",
       "    <tr>\n",
       "      <th>1</th>\n",
       "      <td>1</td>\n",
       "      <td>10</td>\n",
       "      <td>55076</td>\n",
       "      <td>0.653276</td>\n",
       "      <td>563.092</td>\n",
       "      <td>0.944177</td>\n",
       "      <td>564.689453</td>\n",
       "    </tr>\n",
       "    <tr>\n",
       "      <th>2</th>\n",
       "      <td>1</td>\n",
       "      <td>15</td>\n",
       "      <td>55076</td>\n",
       "      <td>0.655501</td>\n",
       "      <td>562.006</td>\n",
       "      <td>0.941386</td>\n",
       "      <td>563.602887</td>\n",
       "    </tr>\n",
       "    <tr>\n",
       "      <th>3</th>\n",
       "      <td>1</td>\n",
       "      <td>20</td>\n",
       "      <td>55076</td>\n",
       "      <td>0.648578</td>\n",
       "      <td>561.914</td>\n",
       "      <td>0.945217</td>\n",
       "      <td>563.507795</td>\n",
       "    </tr>\n",
       "    <tr>\n",
       "      <th>4</th>\n",
       "      <td>1</td>\n",
       "      <td>25</td>\n",
       "      <td>55076</td>\n",
       "      <td>0.645982</td>\n",
       "      <td>561.662</td>\n",
       "      <td>0.949270</td>\n",
       "      <td>563.257252</td>\n",
       "    </tr>\n",
       "    <tr>\n",
       "      <th>...</th>\n",
       "      <td>...</td>\n",
       "      <td>...</td>\n",
       "      <td>...</td>\n",
       "      <td>...</td>\n",
       "      <td>...</td>\n",
       "      <td>...</td>\n",
       "      <td>...</td>\n",
       "    </tr>\n",
       "    <tr>\n",
       "      <th>115</th>\n",
       "      <td>32</td>\n",
       "      <td>80</td>\n",
       "      <td>55076</td>\n",
       "      <td>0.649529</td>\n",
       "      <td>112.754</td>\n",
       "      <td>0.948711</td>\n",
       "      <td>114.352240</td>\n",
       "    </tr>\n",
       "    <tr>\n",
       "      <th>116</th>\n",
       "      <td>32</td>\n",
       "      <td>85</td>\n",
       "      <td>55076</td>\n",
       "      <td>0.646358</td>\n",
       "      <td>113.022</td>\n",
       "      <td>0.955529</td>\n",
       "      <td>114.623887</td>\n",
       "    </tr>\n",
       "    <tr>\n",
       "      <th>117</th>\n",
       "      <td>32</td>\n",
       "      <td>90</td>\n",
       "      <td>55076</td>\n",
       "      <td>0.651376</td>\n",
       "      <td>112.456</td>\n",
       "      <td>0.943477</td>\n",
       "      <td>114.050853</td>\n",
       "    </tr>\n",
       "    <tr>\n",
       "      <th>118</th>\n",
       "      <td>32</td>\n",
       "      <td>95</td>\n",
       "      <td>55076</td>\n",
       "      <td>0.646021</td>\n",
       "      <td>112.975</td>\n",
       "      <td>0.948980</td>\n",
       "      <td>114.570001</td>\n",
       "    </tr>\n",
       "    <tr>\n",
       "      <th>119</th>\n",
       "      <td>32</td>\n",
       "      <td>100</td>\n",
       "      <td>55076</td>\n",
       "      <td>0.651154</td>\n",
       "      <td>112.316</td>\n",
       "      <td>0.944377</td>\n",
       "      <td>113.911531</td>\n",
       "    </tr>\n",
       "  </tbody>\n",
       "</table>\n",
       "<p>120 rows × 7 columns</p>\n",
       "</div>"
      ],
      "text/plain": [
       "     threads  package  points  read_time[s]  calc_time[s]  write_time[s]  \\\n",
       "0          1        5   55076      0.670609       563.370       0.949715   \n",
       "1          1       10   55076      0.653276       563.092       0.944177   \n",
       "2          1       15   55076      0.655501       562.006       0.941386   \n",
       "3          1       20   55076      0.648578       561.914       0.945217   \n",
       "4          1       25   55076      0.645982       561.662       0.949270   \n",
       "..       ...      ...     ...           ...           ...            ...   \n",
       "115       32       80   55076      0.649529       112.754       0.948711   \n",
       "116       32       85   55076      0.646358       113.022       0.955529   \n",
       "117       32       90   55076      0.651376       112.456       0.943477   \n",
       "118       32       95   55076      0.646021       112.975       0.948980   \n",
       "119       32      100   55076      0.651154       112.316       0.944377   \n",
       "\n",
       "     total_time[s]  \n",
       "0       564.990324  \n",
       "1       564.689453  \n",
       "2       563.602887  \n",
       "3       563.507795  \n",
       "4       563.257252  \n",
       "..             ...  \n",
       "115     114.352240  \n",
       "116     114.623887  \n",
       "117     114.050853  \n",
       "118     114.570001  \n",
       "119     113.911531  \n",
       "\n",
       "[120 rows x 7 columns]"
      ]
     },
     "execution_count": 1,
     "metadata": {},
     "output_type": "execute_result"
    }
   ],
   "source": [
    "import pandas as pd\n",
    "\n",
    "df = pd.read_csv(\"report_time_no_allocation.csv\")\n",
    "df[\"total_time[s]\"] = df[\"read_time[s]\"] + df[\"calc_time[s]\"] + df[\"write_time[s]\"]\n",
    "df"
   ]
  },
  {
   "cell_type": "markdown",
   "id": "3bc93adc",
   "metadata": {},
   "source": [
    "---\n",
    "\n",
    ">Next processing generate a *mesh grid*. The goal is visualize execution time for different *threads* and *package sizes* at the same time."
   ]
  },
  {
   "cell_type": "code",
   "execution_count": 2,
   "id": "92f9bad0",
   "metadata": {},
   "outputs": [
    {
     "name": "stdout",
     "output_type": "stream",
     "text": [
      "[[564.990324 564.689453 563.602887 563.507795 563.257252 567.348884\n",
      "  566.679903 565.972371 563.931938 562.586902 566.696799 565.120384\n",
      "  566.297586 565.352592 566.064123 563.506679 568.966247 563.699327\n",
      "  562.182807 565.572136]\n",
      " [310.781935 312.286921 310.942884 314.001813 309.904486 315.885435\n",
      "  310.697373 311.34645  312.806553 312.644245 309.498782 310.628921\n",
      "  310.312532 310.606181 311.283371 309.756419 309.978529 309.334745\n",
      "  310.613386 310.616055]\n",
      " [177.694928 179.65331  178.114928 178.410672 177.247289 177.318414\n",
      "  177.675206 179.772135 176.881424 177.412945 177.849963 179.69739\n",
      "  180.484016 178.593561 177.703517 179.797351 178.962587 179.104136\n",
      "  180.261011 177.892061]\n",
      " [108.743866 110.339188 108.773748 108.979997 111.140969 111.190473\n",
      "  110.213269 110.883652 110.291674 110.194257 111.488159 110.291318\n",
      "  110.301376 109.961194 109.866208 109.491962 110.753118 109.940782\n",
      "  109.655176 111.322677]\n",
      " [102.923969 102.616974 103.515912 102.353564 103.790989 101.009741\n",
      "  101.157668 102.837197 103.411012 101.026034 101.892342 103.107268\n",
      "  102.531891 101.076304 102.748739 102.722021 101.782058 102.664765\n",
      "  102.424702 101.730117]\n",
      " [112.998871 114.417457 113.871023 115.084879 114.965864 114.194135\n",
      "  114.766139 114.970155 113.775079 113.862571 112.826607 113.401955\n",
      "  115.475681 114.516111 113.231871 114.35224  114.623887 114.050853\n",
      "  114.570001 113.911531]]\n"
     ]
    }
   ],
   "source": [
    "import numpy as np\n",
    "\n",
    "threads=np.array([1,2,4,8,16,32])\n",
    "packages=np.array(range(5,105,5))\n",
    "\n",
    "m = threads.size\n",
    "n = packages.size\n",
    "\n",
    "time_mat = np.zeros([m,n])\n",
    "\n",
    "\n",
    "for i in range(m):\n",
    "    t = threads[i]\n",
    "    for j in range(n):\n",
    "        pack = packages[j]\n",
    "        time_mat[i,j] = df[(df[\"threads\"]==t) & (df[\"package\"]==pack)].iloc[0,6]\n",
    "\n",
    "x, y = np.meshgrid(packages,threads)\n",
    "\n",
    "print(time_mat)"
   ]
  },
  {
   "cell_type": "markdown",
   "id": "7e9a630c",
   "metadata": {},
   "source": [
    "---\n",
    "\n",
    "## Heat map visualization\n",
    "\n",
    ">Results indicate that *package* size has no influence in performance. In addition, best performance is obtained with 16 threads instead of 32 (16 real processors and 32 logical in the machine where the program run)."
   ]
  },
  {
   "cell_type": "code",
   "execution_count": 3,
   "id": "d5484c39",
   "metadata": {},
   "outputs": [
    {
     "data": {
      "image/png": "[encoded data removed]",
      "text/plain": [
       "<Figure size 432x288 with 2 Axes>"
      ]
     },
     "metadata": {
      "needs_background": "light"
     },
     "output_type": "display_data"
    }
   ],
   "source": [
    "import matplotlib.pyplot as plt\n",
    "\n",
    "fig, ax = plt.subplots()\n",
    "\n",
    "heat_map = ax.pcolormesh(x,y,time_mat, cmap=\"hot_r\",edgecolors=\"black\")\n",
    "\n",
    "cbar = fig.colorbar(heat_map, ax=ax)\n",
    "cbar.set_label(\"Time [s]\")\n",
    "\n",
    "#ax.set_ylim(1,32)\n",
    "ax.set_ylim(1)\n",
    "ax.set_xlim(5,100)\n",
    "ax.set_xlabel(\"Package Size\")\n",
    "ax.set_ylabel(\"Threads\")\n",
    "\n",
    "ax.set_yscale(\"log\",base=2)\n",
    "#plt.yscale(\"log\",base=2)\n",
    "\n",
    "plt.show()"
   ]
  },
  {
   "cell_type": "markdown",
   "id": "bc246726",
   "metadata": {},
   "source": [
    "---\n",
    "\n",
    "## Package size influence for 16 threads\n",
    "\n",
    ">With this line chart we can confirm that, in the way this code is written, package size has no effect in performance"
   ]
  },
  {
   "cell_type": "code",
   "execution_count": 4,
   "id": "556f9af9",
   "metadata": {
    "scrolled": true
   },
   "outputs": [
    {
     "data": {
      "image/png": "[encoded data removed]",
      "text/plain": [
       "<Figure size 432x288 with 1 Axes>"
      ]
     },
     "metadata": {
      "needs_background": "light"
     },
     "output_type": "display_data"
    }
   ],
   "source": [
    "sixteen = df[df[\"threads\"]==16]\n",
    "\n",
    "fig, ax = plt.subplots()\n",
    "\n",
    "ax.plot(sixteen[\"package\"], sixteen[\"total_time[s]\"])\n",
    "\n",
    "ax.set_ylim(0,200)\n",
    "ax.set_xlabel(\"Package size\")\n",
    "ax.set_ylabel(\"Time [s]\")\n",
    "#ax.grid()\n",
    "\n",
    "plt.show()"
   ]
  },
  {
   "cell_type": "markdown",
   "id": "f096df33",
   "metadata": {},
   "source": [
    "---\n",
    "\n",
    "## Best execution time\n",
    "\n",
    ">Analysis of the best performance execution"
   ]
  },
  {
   "cell_type": "code",
   "execution_count": 5,
   "id": "f38335b7",
   "metadata": {},
   "outputs": [
    {
     "data": {
      "text/html": [
       "<div>\n",
       "<style scoped>\n",
       "    .dataframe tbody tr th:only-of-type {\n",
       "        vertical-align: middle;\n",
       "    }\n",
       "\n",
       "    .dataframe tbody tr th {\n",
       "        vertical-align: top;\n",
       "    }\n",
       "\n",
       "    .dataframe thead th {\n",
       "        text-align: right;\n",
       "    }\n",
       "</style>\n",
       "<table border=\"1\" class=\"dataframe\">\n",
       "  <thead>\n",
       "    <tr style=\"text-align: right;\">\n",
       "      <th></th>\n",
       "      <th>threads</th>\n",
       "      <th>package</th>\n",
       "      <th>points</th>\n",
       "      <th>read_time[s]</th>\n",
       "      <th>calc_time[s]</th>\n",
       "      <th>write_time[s]</th>\n",
       "      <th>total_time[s]</th>\n",
       "    </tr>\n",
       "  </thead>\n",
       "  <tbody>\n",
       "    <tr>\n",
       "      <th>85</th>\n",
       "      <td>16</td>\n",
       "      <td>30</td>\n",
       "      <td>55076</td>\n",
       "      <td>0.647573</td>\n",
       "      <td>99.4128</td>\n",
       "      <td>0.949368</td>\n",
       "      <td>101.009741</td>\n",
       "    </tr>\n",
       "  </tbody>\n",
       "</table>\n",
       "</div>"
      ],
      "text/plain": [
       "    threads  package  points  read_time[s]  calc_time[s]  write_time[s]  \\\n",
       "85       16       30   55076      0.647573       99.4128       0.949368   \n",
       "\n",
       "    total_time[s]  \n",
       "85     101.009741  "
      ]
     },
     "execution_count": 5,
     "metadata": {},
     "output_type": "execute_result"
    }
   ],
   "source": [
    "best_conf = df[df[\"total_time[s]\"] == df[\"total_time[s]\"].min()]\n",
    "best_conf"
   ]
  },
  {
   "cell_type": "code",
   "execution_count": 6,
   "id": "0c517f2c",
   "metadata": {},
   "outputs": [
    {
     "data": {
      "text/html": [
       "<div>\n",
       "<style scoped>\n",
       "    .dataframe tbody tr th:only-of-type {\n",
       "        vertical-align: middle;\n",
       "    }\n",
       "\n",
       "    .dataframe tbody tr th {\n",
       "        vertical-align: top;\n",
       "    }\n",
       "\n",
       "    .dataframe thead th {\n",
       "        text-align: right;\n",
       "    }\n",
       "</style>\n",
       "<table border=\"1\" class=\"dataframe\">\n",
       "  <thead>\n",
       "    <tr style=\"text-align: right;\">\n",
       "      <th></th>\n",
       "      <th>threads</th>\n",
       "      <th>package</th>\n",
       "      <th>points</th>\n",
       "      <th>read_time[s]</th>\n",
       "      <th>calc_time[s]</th>\n",
       "      <th>write_time[s]</th>\n",
       "      <th>total_time[s]</th>\n",
       "    </tr>\n",
       "  </thead>\n",
       "  <tbody>\n",
       "    <tr>\n",
       "      <th>16</th>\n",
       "      <td>1</td>\n",
       "      <td>85</td>\n",
       "      <td>55076</td>\n",
       "      <td>0.645723</td>\n",
       "      <td>567.374</td>\n",
       "      <td>0.946524</td>\n",
       "      <td>568.966247</td>\n",
       "    </tr>\n",
       "  </tbody>\n",
       "</table>\n",
       "</div>"
      ],
      "text/plain": [
       "    threads  package  points  read_time[s]  calc_time[s]  write_time[s]  \\\n",
       "16        1       85   55076      0.645723       567.374       0.946524   \n",
       "\n",
       "    total_time[s]  \n",
       "16     568.966247  "
      ]
     },
     "execution_count": 6,
     "metadata": {},
     "output_type": "execute_result"
    }
   ],
   "source": [
    "worse_conf = df[df[\"total_time[s]\"] == df[\"total_time[s]\"].max()]\n",
    "worse_conf"
   ]
  },
  {
   "cell_type": "code",
   "execution_count": 7,
   "id": "7b110512",
   "metadata": {},
   "outputs": [
    {
     "name": "stdout",
     "output_type": "stream",
     "text": [
      "[0.11349056 0.64109955]\n"
     ]
    },
    {
     "data": {
      "image/png": "[encoded data removed]",
      "text/plain": [
       "<Figure size 360x720 with 1 Axes>"
      ]
     },
     "metadata": {
      "needs_background": "light"
     },
     "output_type": "display_data"
    }
   ],
   "source": [
    "b_tot = best_conf[\"total_time[s]\"].iloc[0]\n",
    "b_read = best_conf[\"read_time[s]\"].iloc[0]\n",
    "b_calc = best_conf[\"calc_time[s]\"].iloc[0]\n",
    "b_write = best_conf[\"write_time[s]\"].iloc[0]\n",
    "\n",
    "w_tot = worse_conf[\"total_time[s]\"].iloc[0]\n",
    "w_read = worse_conf[\"read_time[s]\"].iloc[0]\n",
    "w_calc = worse_conf[\"calc_time[s]\"].iloc[0]\n",
    "w_write = worse_conf[\"write_time[s]\"].iloc[0]\n",
    "\n",
    "x = [\"Worse\", \"Best\"]\n",
    "\n",
    "read_per = np.array([w_read/w_tot*100, b_read/b_tot*100])\n",
    "calc_per = np.array([w_calc/w_tot*100, b_calc/b_tot*100])\n",
    "write_per = np.array([w_write/w_tot*100, b_write/b_tot*100])\n",
    "print(read_per)\n",
    "\n",
    "fig, ax = plt.subplots()\n",
    "\n",
    "fig.set_size_inches(5,10)\n",
    "\n",
    "ax.bar(x, read_per, label=\"Read\")\n",
    "ax.bar(x, calc_per, bottom=read_per, label=\"Calculation\")\n",
    "ax.bar(x, write_per, bottom=read_per+calc_per, label=\"Write\")\n",
    "ax.legend(loc=\"lower left\",bbox_to_anchor=(1.0,0.5))\n",
    "\n",
    "plt.show()"
   ]
  },
  {
   "cell_type": "markdown",
   "id": "13a7c5d4",
   "metadata": {},
   "source": [
    ">Due to read and write executions are secuential, results times in both executions (*best* and *worse*) are similar (but relatively, *best*'s read and write times are greater than *worse*). Even so, both can be ignored comparing with calculation time."
   ]
  },
  {
   "cell_type": "markdown",
   "id": "24feb929",
   "metadata": {},
   "source": [
    "---\n",
    "\n",
    "## Speed up\n",
    "\n",
    "> Results are worse than expected, the code has to be improved in order to gain better performance. Mesh points have no dependency on each other, so the parallelization should be almost ideal."
   ]
  },
  {
   "cell_type": "code",
   "execution_count": 8,
   "id": "e5c8b11a",
   "metadata": {},
   "outputs": [
    {
     "name": "stdout",
     "output_type": "stream",
     "text": [
      "Serial Time:  564.990324 s\n"
     ]
    },
    {
     "data": {
      "text/html": [
       "<div>\n",
       "<style scoped>\n",
       "    .dataframe tbody tr th:only-of-type {\n",
       "        vertical-align: middle;\n",
       "    }\n",
       "\n",
       "    .dataframe tbody tr th {\n",
       "        vertical-align: top;\n",
       "    }\n",
       "\n",
       "    .dataframe thead th {\n",
       "        text-align: right;\n",
       "    }\n",
       "</style>\n",
       "<table border=\"1\" class=\"dataframe\">\n",
       "  <thead>\n",
       "    <tr style=\"text-align: right;\">\n",
       "      <th></th>\n",
       "      <th>threads</th>\n",
       "      <th>package</th>\n",
       "      <th>points</th>\n",
       "      <th>read_time[s]</th>\n",
       "      <th>calc_time[s]</th>\n",
       "      <th>write_time[s]</th>\n",
       "      <th>total_time[s]</th>\n",
       "      <th>speedup</th>\n",
       "    </tr>\n",
       "  </thead>\n",
       "  <tbody>\n",
       "    <tr>\n",
       "      <th>0</th>\n",
       "      <td>1</td>\n",
       "      <td>5</td>\n",
       "      <td>55076</td>\n",
       "      <td>0.670609</td>\n",
       "      <td>563.370</td>\n",
       "      <td>0.949715</td>\n",
       "      <td>564.990324</td>\n",
       "      <td>1.000000</td>\n",
       "    </tr>\n",
       "    <tr>\n",
       "      <th>1</th>\n",
       "      <td>1</td>\n",
       "      <td>10</td>\n",
       "      <td>55076</td>\n",
       "      <td>0.653276</td>\n",
       "      <td>563.092</td>\n",
       "      <td>0.944177</td>\n",
       "      <td>564.689453</td>\n",
       "      <td>1.000533</td>\n",
       "    </tr>\n",
       "    <tr>\n",
       "      <th>2</th>\n",
       "      <td>1</td>\n",
       "      <td>15</td>\n",
       "      <td>55076</td>\n",
       "      <td>0.655501</td>\n",
       "      <td>562.006</td>\n",
       "      <td>0.941386</td>\n",
       "      <td>563.602887</td>\n",
       "      <td>1.002462</td>\n",
       "    </tr>\n",
       "    <tr>\n",
       "      <th>3</th>\n",
       "      <td>1</td>\n",
       "      <td>20</td>\n",
       "      <td>55076</td>\n",
       "      <td>0.648578</td>\n",
       "      <td>561.914</td>\n",
       "      <td>0.945217</td>\n",
       "      <td>563.507795</td>\n",
       "      <td>1.002631</td>\n",
       "    </tr>\n",
       "    <tr>\n",
       "      <th>4</th>\n",
       "      <td>1</td>\n",
       "      <td>25</td>\n",
       "      <td>55076</td>\n",
       "      <td>0.645982</td>\n",
       "      <td>561.662</td>\n",
       "      <td>0.949270</td>\n",
       "      <td>563.257252</td>\n",
       "      <td>1.003077</td>\n",
       "    </tr>\n",
       "    <tr>\n",
       "      <th>...</th>\n",
       "      <td>...</td>\n",
       "      <td>...</td>\n",
       "      <td>...</td>\n",
       "      <td>...</td>\n",
       "      <td>...</td>\n",
       "      <td>...</td>\n",
       "      <td>...</td>\n",
       "      <td>...</td>\n",
       "    </tr>\n",
       "    <tr>\n",
       "      <th>115</th>\n",
       "      <td>32</td>\n",
       "      <td>80</td>\n",
       "      <td>55076</td>\n",
       "      <td>0.649529</td>\n",
       "      <td>112.754</td>\n",
       "      <td>0.948711</td>\n",
       "      <td>114.352240</td>\n",
       "      <td>4.940789</td>\n",
       "    </tr>\n",
       "    <tr>\n",
       "      <th>116</th>\n",
       "      <td>32</td>\n",
       "      <td>85</td>\n",
       "      <td>55076</td>\n",
       "      <td>0.646358</td>\n",
       "      <td>113.022</td>\n",
       "      <td>0.955529</td>\n",
       "      <td>114.623887</td>\n",
       "      <td>4.929080</td>\n",
       "    </tr>\n",
       "    <tr>\n",
       "      <th>117</th>\n",
       "      <td>32</td>\n",
       "      <td>90</td>\n",
       "      <td>55076</td>\n",
       "      <td>0.651376</td>\n",
       "      <td>112.456</td>\n",
       "      <td>0.943477</td>\n",
       "      <td>114.050853</td>\n",
       "      <td>4.953846</td>\n",
       "    </tr>\n",
       "    <tr>\n",
       "      <th>118</th>\n",
       "      <td>32</td>\n",
       "      <td>95</td>\n",
       "      <td>55076</td>\n",
       "      <td>0.646021</td>\n",
       "      <td>112.975</td>\n",
       "      <td>0.948980</td>\n",
       "      <td>114.570001</td>\n",
       "      <td>4.931398</td>\n",
       "    </tr>\n",
       "    <tr>\n",
       "      <th>119</th>\n",
       "      <td>32</td>\n",
       "      <td>100</td>\n",
       "      <td>55076</td>\n",
       "      <td>0.651154</td>\n",
       "      <td>112.316</td>\n",
       "      <td>0.944377</td>\n",
       "      <td>113.911531</td>\n",
       "      <td>4.959905</td>\n",
       "    </tr>\n",
       "  </tbody>\n",
       "</table>\n",
       "<p>120 rows × 8 columns</p>\n",
       "</div>"
      ],
      "text/plain": [
       "     threads  package  points  read_time[s]  calc_time[s]  write_time[s]  \\\n",
       "0          1        5   55076      0.670609       563.370       0.949715   \n",
       "1          1       10   55076      0.653276       563.092       0.944177   \n",
       "2          1       15   55076      0.655501       562.006       0.941386   \n",
       "3          1       20   55076      0.648578       561.914       0.945217   \n",
       "4          1       25   55076      0.645982       561.662       0.949270   \n",
       "..       ...      ...     ...           ...           ...            ...   \n",
       "115       32       80   55076      0.649529       112.754       0.948711   \n",
       "116       32       85   55076      0.646358       113.022       0.955529   \n",
       "117       32       90   55076      0.651376       112.456       0.943477   \n",
       "118       32       95   55076      0.646021       112.975       0.948980   \n",
       "119       32      100   55076      0.651154       112.316       0.944377   \n",
       "\n",
       "     total_time[s]   speedup  \n",
       "0       564.990324  1.000000  \n",
       "1       564.689453  1.000533  \n",
       "2       563.602887  1.002462  \n",
       "3       563.507795  1.002631  \n",
       "4       563.257252  1.003077  \n",
       "..             ...       ...  \n",
       "115     114.352240  4.940789  \n",
       "116     114.623887  4.929080  \n",
       "117     114.050853  4.953846  \n",
       "118     114.570001  4.931398  \n",
       "119     113.911531  4.959905  \n",
       "\n",
       "[120 rows x 8 columns]"
      ]
     },
     "execution_count": 8,
     "metadata": {},
     "output_type": "execute_result"
    }
   ],
   "source": [
    "serial_time = df[(df[\"threads\"]==1) & (df[\"package\"]==5)].iloc[0,6]\n",
    "print(\"Serial Time: \", serial_time, \"s\")\n",
    "\n",
    "df[\"speedup\"] = serial_time / df[\"total_time[s]\"]\n",
    "df"
   ]
  },
  {
   "cell_type": "code",
   "execution_count": 9,
   "id": "ca58f098",
   "metadata": {},
   "outputs": [
    {
     "data": {
      "image/png": "[encoded data removed]",
      "text/plain": [
       "<Figure size 432x288 with 1 Axes>"
      ]
     },
     "metadata": {
      "needs_background": "light"
     },
     "output_type": "display_data"
    }
   ],
   "source": [
    "speedup_data = df[df[\"package\"] == 50] # Package value does not matter\n",
    "\n",
    "fig, ax = plt.subplots()\n",
    "\n",
    "ax.plot(speedup_data[\"threads\"], speedup_data[\"speedup\"])\n",
    "\n",
    "# Ideal parallelization\n",
    "ax.plot(range(0,32), range(0,32))\n",
    "\n",
    "ax.set_xlim(0,32)\n",
    "ax.set_ylim(0,32)\n",
    "ax.set_xlabel(\"Number of Threads\")\n",
    "ax.set_ylabel(\"Speed Up [-]\")\n",
    "ax.legend([\"Results\", \"Ideal\"])\n",
    "\n",
    "plt.show()"
   ]
  }
 ],
 "metadata": {
  "kernelspec": {
   "display_name": "Python 3 (ipykernel)",
   "language": "python",
   "name": "python3"
  },
  "language_info": {
   "codemirror_mode": {
    "name": "ipython",
    "version": 3
   },
   "file_extension": ".py",
   "mimetype": "text/x-python",
   "name": "python",
   "nbconvert_exporter": "python",
   "pygments_lexer": "ipython3",
   "version": "3.8.10"
  }
 },
 "nbformat": 4,
 "nbformat_minor": 5
}
